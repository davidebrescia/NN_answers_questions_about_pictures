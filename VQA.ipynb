{
  "nbformat": 4,
  "nbformat_minor": 0,
  "metadata": {
    "accelerator": "GPU",
    "colab": {
      "name": "VQA.ipynb",
      "provenance": [],
      "collapsed_sections": []
    },
    "kernelspec": {
      "display_name": "Python 3",
      "name": "python3"
    }
  },
  "cells": [
    {
      "cell_type": "markdown",
      "metadata": {
        "id": "9gqa0V_raGCS"
      },
      "source": [
        "# Generic hyperparameters"
      ]
    },
    {
      "cell_type": "code",
      "metadata": {
        "id": "nEYFLvtn-A8f"
      },
      "source": [
        "dataset_split = 0.9\n",
        "\n",
        "bs = 128\n",
        "\n",
        "# All the images are 700x400 pixels, we resize keeping proportions\n",
        "img_h = 146 \n",
        "img_w = 256\n",
        "\n",
        "SEED = 1234"
      ],
      "execution_count": null,
      "outputs": []
    },
    {
      "cell_type": "markdown",
      "metadata": {
        "id": "T_c4L4x6aKmQ"
      },
      "source": [
        "# Libraries and Drive"
      ]
    },
    {
      "cell_type": "code",
      "metadata": {
        "id": "k-OG9D4GAd4P"
      },
      "source": [
        "import os\n",
        "import math\n",
        "import json\n",
        "import tensorflow as tf\n",
        "import numpy as np\n",
        "import pandas as pd\n",
        "from PIL import Image\n",
        "from google.colab import drive\n",
        "from datetime import datetime\n",
        "from matplotlib import cm\n",
        "import matplotlib.pyplot as plt \n",
        "from tensorflow.keras.preprocessing.image import ImageDataGenerator"
      ],
      "execution_count": null,
      "outputs": []
    },
    {
      "cell_type": "code",
      "metadata": {
        "colab": {
          "base_uri": "https://localhost:8080/"
        },
        "id": "MLPkBrp6B8IL",
        "outputId": "4f76b677-2d75-49c7-ab09-43628e7506ac"
      },
      "source": [
        "cwd = os.getcwd()\n",
        "\n",
        "drive.mount('/content/drive')"
      ],
      "execution_count": null,
      "outputs": [
        {
          "output_type": "stream",
          "text": [
            "Mounted at /content/drive\n"
          ],
          "name": "stdout"
        }
      ]
    },
    {
      "cell_type": "code",
      "metadata": {
        "id": "KnYpiaQG-Hgz"
      },
      "source": [
        "tf.random.set_seed(SEED)\n",
        "np.random.seed(SEED)"
      ],
      "execution_count": null,
      "outputs": []
    },
    {
      "cell_type": "markdown",
      "metadata": {
        "id": "aMr741j2CS0U"
      },
      "source": [
        "#Data Loading"
      ]
    },
    {
      "cell_type": "code",
      "metadata": {
        "colab": {
          "base_uri": "https://localhost:8080/"
        },
        "id": "QkADfCr3CXPn",
        "outputId": "afb78a9c-d658-415f-850f-ca9ad9c10fec"
      },
      "source": [
        "dataset_dir = os.path.join(cwd, '/content/drive/My Drive/VQA/VQA_Dataset')\n",
        "\n",
        "#Loading the json file into a pandas dataframe\n",
        "df = pd.read_json(os.path.join(dataset_dir,\"train_questions_annotations.json\")).T\n",
        "\n",
        "#Reshuffle\n",
        "df = df.sample(frac=1).reset_index(drop=True)\n",
        "\n",
        "print(\"Size of the whole dataset (questions):\", len(df))"
      ],
      "execution_count": null,
      "outputs": [
        {
          "output_type": "stream",
          "text": [
            "Size of the whole dataset (questions): 58832\n"
          ],
          "name": "stdout"
        }
      ]
    },
    {
      "cell_type": "code",
      "metadata": {
        "id": "65H_WdnaAViC"
      },
      "source": [
        "# Resize the whole image dataset once, to speed up training\n",
        "# This cell executes only if resized dataset does not already exist\n",
        "\n",
        "resize_whole_dataset = False\n",
        "\n",
        "new_size = (256, 146)  \n",
        "\n",
        "resized_folder_name = 'Images_256x146'\n",
        "resized_images_dir = os.path.join('/content/drive/My Drive/VQA', resized_folder_name)\n",
        "images_dir = '/content/drive/My Drive/VQA/VQA_Dataset/Images'\n",
        "num_images = 29339\n",
        "\n",
        "if resize_whole_dataset:\n",
        "\n",
        "  if not os.path.exists(resized_images_dir):\n",
        "      os.makedirs(resized_images_dir)\n",
        "\n",
        "      i = 1\n",
        "      for image_name in os.listdir(images_dir):\n",
        "        img = Image.open(os.path.join(images_dir, image_name))\n",
        "        img = img.resize(new_size)\n",
        "        resized_img_path = os.path.join(resized_images_dir, image_name)\n",
        "        img.save(resized_img_path)\n",
        "\n",
        "        print('Processed images:', i, '/', num_images)\n",
        "        i+=1"
      ],
      "execution_count": null,
      "outputs": []
    },
    {
      "cell_type": "code",
      "metadata": {
        "id": "3cObyo808_qR"
      },
      "source": [
        "load_images_in_RAM = False\n",
        "\n",
        "# Storing images in RAM, to speed up training\n",
        "# Too slow: 3 hours to load the entire dataset, over 12 max hours of one colab session \n",
        "\n",
        "if(load_images_in_RAM):\n",
        "\n",
        "  images_RAM = {}\n",
        "\n",
        "  i = 1\n",
        "  for image_name in os.listdir(resized_images_dir):\n",
        "    img = Image.open(os.path.join(resized_images_dir, image_name))\n",
        "    img_arr = np.array(img)\n",
        "    images_RAM[image_name] = img_arr\n",
        "    print(i)"
      ],
      "execution_count": null,
      "outputs": []
    },
    {
      "cell_type": "code",
      "metadata": {
        "id": "YDuH1hzHLTQT"
      },
      "source": [
        "classes = {\n",
        "  '0': 0,\n",
        "  '1': 1,\n",
        "  '2': 2,\n",
        "  '3': 3,\n",
        "  '4': 4,\n",
        "  '5': 5,\n",
        "  'apple': 6,\n",
        "  'baseball': 7,\n",
        "  'bench': 8,\n",
        "  'bike': 9,\n",
        "  'bird': 10,\n",
        "  'black': 11,\n",
        "  'blanket': 12,\n",
        "  'blue': 13,\n",
        "  'bone': 14,\n",
        "  'book': 15,\n",
        "  'boy': 16,\n",
        "  'brown': 17,\n",
        "  'cat': 18,\n",
        "  'chair': 19,\n",
        "  'couch': 20,\n",
        "  'dog': 21,\n",
        "  'floor': 22,\n",
        "  'food': 23,\n",
        "  'football': 24,\n",
        "  'girl': 25,\n",
        "  'grass': 26,\n",
        "  'gray': 27,\n",
        "  'green': 28,\n",
        "  'left': 29,\n",
        "  'log': 30,\n",
        "  'man': 31,\n",
        "  'monkey bars': 32,\n",
        "  'no': 33,\n",
        "  'nothing': 34,\n",
        "  'orange': 35,\n",
        "  'pie': 36,\n",
        "  'plant': 37,\n",
        "  'playing': 38,\n",
        "  'red': 39,\n",
        "  'right': 40,\n",
        "  'rug': 41,\n",
        "  'sandbox': 42,\n",
        "  'sitting': 43,\n",
        "  'sleeping': 44,\n",
        "  'soccer': 45,\n",
        "  'squirrel': 46,\n",
        "  'standing': 47,\n",
        "  'stool': 48,\n",
        "  'sunny': 49,\n",
        "  'table': 50,\n",
        "  'tree': 51,\n",
        "  'watermelon': 52,\n",
        "  'white': 53,\n",
        "  'wine': 54,\n",
        "  'woman': 55,\n",
        "  'yellow': 56,\n",
        "  'yes': 57\n",
        "}\n",
        "    \n",
        "num_classes = len(classes)"
      ],
      "execution_count": null,
      "outputs": []
    },
    {
      "cell_type": "markdown",
      "metadata": {
        "id": "LvL9tQmDOEv1"
      },
      "source": [
        "##Data Preparation"
      ]
    },
    {
      "cell_type": "code",
      "metadata": {
        "id": "rzh6LOhcMchi"
      },
      "source": [
        "# Tokenization\n",
        "\n",
        "tokenizer = tf.keras.preprocessing.text.Tokenizer(lower=True)\n",
        "\n",
        "questions = []\n",
        "for index, row in df.iterrows():\n",
        "  question = []\n",
        "  question += row['question'].split(\" \")\n",
        "  question = [quest.replace(\"?\", \"\") for quest in question]\n",
        "  questions.append(question)\n",
        "\n",
        "tokenizer.fit_on_texts(questions)\n",
        "encoded_questions = tokenizer.texts_to_sequences(questions)\n",
        "\n",
        "max_length = max(len(sequence) for sequence in encoded_questions)\n",
        "words_number = len(tokenizer.word_index) + 1\n",
        "\n",
        "# Padding\n",
        "\n",
        "encoded_questions = tf.keras.preprocessing.sequence.pad_sequences(encoded_questions, maxlen=max_length) # Padding, to make every sequence having the same length\n",
        "\n",
        "\n",
        "for i, row in df.iterrows():\n",
        "  df.loc[i, \"question\"] = encoded_questions[i]\n",
        "  df.loc[i, \"answer\"] = classes[row[\"answer\"]]"
      ],
      "execution_count": null,
      "outputs": []
    },
    {
      "cell_type": "code",
      "metadata": {
        "id": "w5-Fi1CzRbAx"
      },
      "source": [
        "# Splitting the main dataframe in train_dataFrame (90% of the samples) and valid_dataFrame (10% of the samples).\n",
        "\n",
        "train_dataFrame = pd.DataFrame()\n",
        "valid_dataFrame = pd.DataFrame()\n",
        "\n",
        "train_dataFrame = train_dataFrame.append(df.head(math.floor(len(df.index) * dataset_split)), ignore_index=True)\n",
        "valid_dataFrame = valid_dataFrame.append(df.tail(len(df) - math.floor(len(df.index) * dataset_split)), ignore_index=True)"
      ],
      "execution_count": null,
      "outputs": []
    },
    {
      "cell_type": "code",
      "metadata": {
        "id": "_UVh_MyT8UJT"
      },
      "source": [
        "# Custom image transformation\n",
        "\n",
        "def custom_transformation(img_arr):\n",
        "\n",
        "  # If using model_1 (VGG_LSTM_Dense) uncomment this: \n",
        "  '''rgb_transform = tf.keras.applications.vgg16.preprocess_input(img_arr[:,:,0:3])\n",
        "  img_arr = np.dstack((rgb_transform,img_arr[:,:,3])) '''\n",
        "\n",
        "\n",
        "  # If using model_2 (MobileNetV2_LSTM_Dense) uncomment this:\n",
        "  '''rgb_transform = tf.keras.applications.mobilenet_v2.preprocess_input(img_arr[:,:,0:3])\n",
        "  img_arr = np.dstack((rgb_transform,img_arr[:,:,3])) '''\n",
        "\n",
        "\n",
        "  # If using model_3 (CNN_LSTM_Dense) uncomment this:\n",
        "  img_arr = img_arr / 255.\n",
        "  \n",
        "\n",
        "  return img_arr"
      ],
      "execution_count": null,
      "outputs": []
    },
    {
      "cell_type": "markdown",
      "metadata": {
        "id": "Tfyx_ooc8HOx"
      },
      "source": [
        "## Custom Data Generator"
      ]
    },
    {
      "cell_type": "code",
      "metadata": {
        "id": "eeN8ZEQF7I1a"
      },
      "source": [
        "class DataGenerator(tf.keras.utils.Sequence):\n",
        "    \n",
        "    def __init__(self, dataFrame, img_size=(256,256), batch_size=16, max_length=22, shuffle=True, images_dir=None):\n",
        "        \n",
        "        self.dataFrame = dataFrame\n",
        "        self.img_size = img_size\n",
        "        self.batch_size = batch_size\n",
        "        self.num_classes = num_classes\n",
        "        self.max_length = max_length\n",
        "        self.shuffle = shuffle\n",
        "        self.on_epoch_end()\n",
        "\n",
        "    def __len__(self):\n",
        "      return int(np.floor(len(self.dataFrame) / self.batch_size)) # Number of batches\n",
        "\n",
        "    def __getitem__(self, index):\n",
        "      \n",
        "      # Generate indexes of the batch\n",
        "      indexes = self.indexes[index*self.batch_size : (index + 1)*self.batch_size]\n",
        "\n",
        "      # Initialize batch\n",
        "      X1 = np.empty((self.batch_size, self.img_size[1], self.img_size[0], 4))  # images (4? number of channels)\n",
        "      X2 = np.empty((self.batch_size, self.max_length))                        # questions\n",
        "      y = np.empty((self.batch_size, 1), dtype=int)                            # answers\n",
        "\n",
        "      # Generate batch\n",
        "      for i, ind in enumerate(indexes):\n",
        "        \n",
        "        curr_image =  self.dataFrame.loc[ind, \"image_id\"] + \".png\" # Take the specific name of the image\n",
        "        img = Image.open(os.path.join(images_dir, curr_image))\n",
        "        img = img.resize(self.img_size) # If images have already the desired size, this instruction is automatically skipped \n",
        "        img_arr = np.array(img)\n",
        "\n",
        "        img_arr = custom_transformation(img_arr) # Whatever is the proper transformation, it's specified in 'custom_transformation' function\n",
        "\n",
        "        question = self.dataFrame.loc[ind, \"question\"]\n",
        "        answer = self.dataFrame.loc[ind, \"answer\"]\n",
        "        \n",
        "        X1[i,] = img_arr\n",
        "        X2[i,] = question\n",
        "        y[i,] = answer\n",
        "\n",
        "      input_data = [X1, X2]\n",
        "\n",
        "      return input_data, y\n",
        "   \n",
        "    def on_epoch_end(self):\n",
        "      self.indexes = np.arange(len(self.dataFrame))\n",
        "      if self.shuffle == True:\n",
        "         np.random.shuffle(self.indexes)"
      ],
      "execution_count": null,
      "outputs": []
    },
    {
      "cell_type": "code",
      "metadata": {
        "id": "fgQ4FTXF1Sbv"
      },
      "source": [
        "# Training dataset\n",
        "train_dataset = DataGenerator(dataFrame = train_dataFrame,\n",
        "                              img_size = (img_w, img_h),\n",
        "                              batch_size = bs,\n",
        "                              max_length = max_length,\n",
        "                              shuffle = True,\n",
        "                              images_dir = '/content/drive/My Drive/VQA/Dataset/Images' # Already resized\n",
        "                              )\n",
        "\n",
        "\n",
        "# Validation dataset\n",
        "valid_dataset = DataGenerator(dataFrame = valid_dataFrame,\n",
        "                              img_size = (img_w, img_h),\n",
        "                              batch_size = bs,\n",
        "                              max_length = max_length,\n",
        "                              shuffle = False,\n",
        "                              images_dir = '/content/drive/My Drive/VQA/Dataset/Images'\n",
        "                              )"
      ],
      "execution_count": null,
      "outputs": []
    },
    {
      "cell_type": "markdown",
      "metadata": {
        "id": "YsGAb0VH6-yZ"
      },
      "source": [
        "## Data visualization"
      ]
    },
    {
      "cell_type": "code",
      "metadata": {
        "id": "G6EBsn19mrUC",
        "colab": {
          "base_uri": "https://localhost:8080/",
          "height": 291
        },
        "outputId": "0a31d399-1dd6-48e4-e69e-f35a32994fcf"
      },
      "source": [
        "# Show one img-question-answer from the generated dataset, to check if everything is correct \n",
        "\n",
        "show_data_sample = True\n",
        "\n",
        "index_in_batch = 0\n",
        "color_channel = 3\n",
        "\n",
        "if show_data_sample:\n",
        "  iterator = iter(train_dataset)\n",
        "\n",
        "  input_data, y = next(iterator)\n",
        "\n",
        "  plt.imshow(input_data[0][index_in_batch,:,:,color_channel])\n",
        "  print(\"Input question:\", input_data[1][index_in_batch])\n",
        "  print(\"Label answer:\", y[index_in_batch])"
      ],
      "execution_count": null,
      "outputs": [
        {
          "output_type": "stream",
          "text": [
            "Input question: [ 0.  0.  0.  0.  0.  0.  0.  0.  0.  0.  0.  3.  1. 22.  8. 21. 28. 95.\n",
            "  1. 45.  9. 51.]\n",
            "Label answer: [33]\n"
          ],
          "name": "stdout"
        },
        {
          "output_type": "display_data",
          "data": {
            "image/png": "[encoded data removed]",
            "text/plain": [
              "<Figure size 432x288 with 1 Axes>"
            ]
          },
          "metadata": {
            "tags": [],
            "needs_background": "light"
          }
        }
      ]
    },
    {
      "cell_type": "markdown",
      "metadata": {
        "id": "n0zwKcYnZ3Mh"
      },
      "source": [
        "# Models"
      ]
    },
    {
      "cell_type": "markdown",
      "metadata": {
        "id": "h1YLLmPY7N9I"
      },
      "source": [
        "### model_1: VGG_LSTM_Dense"
      ]
    },
    {
      "cell_type": "code",
      "metadata": {
        "id": "6H5p0Hdl2fBb"
      },
      "source": [
        "def create_model_1():\n",
        "\n",
        "    # Hyperparameters of this model\n",
        "\n",
        "    num_image_features = 64\n",
        "    embedding_size = 64\n",
        "\n",
        "    lstm_units = 100\n",
        "    lstm_dropout = 0.2\n",
        "  \n",
        "    dense_units = 128\n",
        "    dense_dropout = 0.2\n",
        "\n",
        "\n",
        "    # CNN for images: pretrained VGG\n",
        "\n",
        "    vgg_model = tf.keras.applications.VGG16(input_shape=(img_h, img_w, 3), include_top=False, weights='imagenet')\n",
        "    for i in range(len(vgg_model.layers)):\n",
        "        vgg_model.layers[i].trainable = False\n",
        "    \n",
        "    vision_model = tf.keras.models.Sequential()\n",
        "\n",
        "    vision_model.add(vgg_model)\n",
        "\n",
        "    vision_model.add(tf.keras.layers.Dropout(0.1))\n",
        "    vision_model.add(tf.keras.layers.Flatten())\n",
        "    vision_model.add(tf.keras.layers.Dense(num_image_features))\n",
        "\n",
        "    image_input = tf.keras.layers.Input(shape=(img_h, img_w, 4))\n",
        "    image_rgb_only = tf.keras.layers.Lambda(lambda x: x[:,:,:,0:3], output_shape=(img_h, img_w, 3))(image_input)\n",
        "    encoded_image = vision_model(image_rgb_only) # VGG ignores the 4th channel of the image\n",
        "\n",
        "\n",
        "    # RNN for questions: LSTM\n",
        "\n",
        "    question_input = tf.keras.layers.Input(shape=[max_length])\n",
        "    embedded_question = tf.keras.layers.Embedding(input_dim=words_number, output_dim=embedding_size, input_length=max_length, mask_zero=True)(question_input)\n",
        "    encoded_question = tf.keras.layers.Bidirectional(tf.keras.layers.LSTM(lstm_units, dropout=lstm_dropout, recurrent_dropout=lstm_dropout, unroll=True))(embedded_question)\n",
        "\n",
        "\n",
        "    # Combine CNN and RNN\n",
        "\n",
        "    merged = tf.keras.layers.concatenate([encoded_question, encoded_image])\n",
        "    output = tf.keras.layers.Dense(dense_units)(merged)\n",
        "    output = tf.keras.layers.Dropout(dense_dropout)(output)\n",
        "    output = tf.keras.layers.Dense(num_classes, activation='softmax')(output)\n",
        "    model_1 = tf.keras.models.Model(inputs=[image_input, question_input], outputs=output)\n",
        "    \n",
        "    return model_1"
      ],
      "execution_count": null,
      "outputs": []
    },
    {
      "cell_type": "markdown",
      "metadata": {
        "id": "8HNryNHB7Ts2"
      },
      "source": [
        "### model_2: MobileNetV2_LSTM_Dense"
      ]
    },
    {
      "cell_type": "code",
      "metadata": {
        "id": "N2q_ou0K4AuB"
      },
      "source": [
        "def create_model_2():\n",
        "\n",
        "    # Hyperparameters of this model\n",
        "\n",
        "    num_image_features = 64\n",
        "    embedding_size = 32\n",
        "\n",
        "    lstm_units = 64\n",
        "    lstm_dropout = 0.2\n",
        "  \n",
        "    dense_units = 256\n",
        "    dense_dropout = 0.2\n",
        "\n",
        "\n",
        "    # CNN for images: pretrained MobileNetV2\n",
        "\n",
        "    mobilenetv2_model = tf.keras.applications.MobileNetV2(input_shape=(img_h, img_w, 3), include_top=False, weights='imagenet')\n",
        "    for i in range(len(mobilenetv2_model.layers)):\n",
        "        mobilenetv2_model.layers[i].trainable = False\n",
        "    \n",
        "    vision_model = tf.keras.models.Sequential()\n",
        "\n",
        "    vision_model.add(mobilenetv2_model)\n",
        "\n",
        "    vision_model.add(tf.keras.layers.Dropout(0.1))\n",
        "    vision_model.add(tf.keras.layers.Flatten())\n",
        "    vision_model.add(tf.keras.layers.Dense(num_image_features))\n",
        "\n",
        "    image_input = tf.keras.layers.Input(shape=(img_h, img_w, 4))\n",
        "    image_rgb_only = tf.keras.layers.Lambda(lambda x: x[:,:,:,0:3], output_shape=(img_h, img_w, 3))(image_input)\n",
        "    encoded_image = vision_model(image_rgb_only) # MobileNetV2 ignores the 4th channel of the image\n",
        "\n",
        "\n",
        "    # RNN for questions: LSTM\n",
        "\n",
        "    question_input = tf.keras.layers.Input(shape=[max_length])\n",
        "    embedded_question = tf.keras.layers.Embedding(input_dim=words_number, output_dim=embedding_size, input_length=max_length, mask_zero=True)(question_input)\n",
        "    encoded_question = tf.keras.layers.Bidirectional(tf.keras.layers.LSTM(lstm_units, dropout=lstm_dropout, recurrent_dropout=lstm_dropout, unroll=True))(embedded_question)\n",
        "\n",
        "    # Combine CNN and RNN\n",
        "\n",
        "    merged = tf.keras.layers.concatenate([encoded_question, encoded_image])\n",
        "    output = tf.keras.layers.Dense(dense_units)(merged)\n",
        "    output = tf.keras.layers.Dropout(dense_dropout)(output)\n",
        "    output = tf.keras.layers.Dense(num_classes, activation='softmax')(output)\n",
        "    model_2 = tf.keras.models.Model(inputs=[image_input, question_input], outputs=output)\n",
        "    \n",
        "    return model_2"
      ],
      "execution_count": null,
      "outputs": []
    },
    {
      "cell_type": "markdown",
      "metadata": {
        "id": "yEHz6Hiy7VSF"
      },
      "source": [
        "### model_3: CNN_LSTM_Dense (best)"
      ]
    },
    {
      "cell_type": "code",
      "metadata": {
        "id": "kd0rGre-S5NB"
      },
      "source": [
        "def create_model_3():\n",
        "\n",
        "    # Hyperparameters of this model\n",
        "\n",
        "    num_image_features = 64\n",
        "    embedding_size = 64\n",
        "\n",
        "    lstm_units = 100\n",
        "    lstm_dropout = 0.2\n",
        "  \n",
        "    dense_units = 128\n",
        "    dense_dropout = 0.2\n",
        "\n",
        "\n",
        "    # CNN for images\n",
        "\n",
        "    cnn_model = tf.keras.models.Sequential()\n",
        "    cnn_model.add(tf.keras.layers.Conv2D(filters=128, kernel_size=(3, 3), strides=(1, 1), padding='same', input_shape=[img_h, img_w, 4]))\n",
        "    cnn_model.add(tf.keras.layers.ReLU())\n",
        "    cnn_model.add(tf.keras.layers.MaxPool2D(pool_size=(2, 2)))\n",
        "    cnn_model.add(tf.keras.layers.Conv2D(filters=128, kernel_size=(3, 3), strides=(1, 1), padding='same'))\n",
        "    cnn_model.add(tf.keras.layers.ReLU())\n",
        "    cnn_model.add(tf.keras.layers.MaxPool2D(pool_size=(2, 2)))    \n",
        "    cnn_model.add(tf.keras.layers.Conv2D(filters=128, kernel_size=(3, 3), strides=(1, 1), padding='same'))\n",
        "    cnn_model.add(tf.keras.layers.ReLU())\n",
        "    cnn_model.add(tf.keras.layers.MaxPool2D(pool_size=(2, 2)))\n",
        "    cnn_model.add(tf.keras.layers.Conv2D(filters=128, kernel_size=(3, 3), strides=(1, 1), padding='same'))\n",
        "    cnn_model.add(tf.keras.layers.ReLU())\n",
        "    cnn_model.add(tf.keras.layers.MaxPool2D(pool_size=(2, 2)))\n",
        "    cnn_model.add(tf.keras.layers.Flatten())\n",
        "\n",
        "\n",
        "    vision_model = tf.keras.models.Sequential()\n",
        "\n",
        "    vision_model.add(cnn_model)\n",
        "\n",
        "    vision_model.add(tf.keras.layers.Dropout(0.1))\n",
        "    vision_model.add(tf.keras.layers.Flatten())\n",
        "    vision_model.add(tf.keras.layers.Dense(num_image_features))\n",
        "\n",
        "    image_input = tf.keras.layers.Input(shape=(img_h, img_w, 4))\n",
        "    encoded_image = vision_model(image_input)\n",
        "\n",
        "\n",
        "    # RNN for questions: LSTM\n",
        "\n",
        "    question_input = tf.keras.layers.Input(shape=[max_length])\n",
        "    embedded_question = tf.keras.layers.Embedding(input_dim=words_number, output_dim=embedding_size, input_length=max_length, mask_zero=True)(question_input)\n",
        "    encoded_question = tf.keras.layers.Bidirectional(tf.keras.layers.LSTM(lstm_units, dropout=lstm_dropout, recurrent_dropout=lstm_dropout, unroll=True))(embedded_question)\n",
        "\n",
        "\n",
        "    # Combine CNN and RNN\n",
        "\n",
        "    merged = tf.keras.layers.concatenate([encoded_question, encoded_image])\n",
        "    output = tf.keras.layers.Dense(dense_units)(merged)\n",
        "    output = tf.keras.layers.Dropout(dense_dropout)(output)\n",
        "    output = tf.keras.layers.Dense(num_classes, activation='softmax')(output)\n",
        "    model_3 = tf.keras.models.Model(inputs=[image_input, question_input], outputs=output)\n",
        "    \n",
        "    return model_3"
      ],
      "execution_count": null,
      "outputs": []
    },
    {
      "cell_type": "code",
      "metadata": {
        "colab": {
          "base_uri": "https://localhost:8080/"
        },
        "id": "2VHWjuBuJGJ5",
        "outputId": "26baaed0-d20e-44ed-e32d-01ae5b68fe2e"
      },
      "source": [
        "model_3 = create_model_3()"
      ],
      "execution_count": null,
      "outputs": [
        {
          "output_type": "stream",
          "text": [
            "WARNING:tensorflow:Layer lstm will not use cuDNN kernel since it doesn't meet the cuDNN kernel criteria. It will use generic GPU kernel as fallback when running on GPU\n",
            "WARNING:tensorflow:Layer lstm will not use cuDNN kernel since it doesn't meet the cuDNN kernel criteria. It will use generic GPU kernel as fallback when running on GPU\n",
            "WARNING:tensorflow:Layer lstm will not use cuDNN kernel since it doesn't meet the cuDNN kernel criteria. It will use generic GPU kernel as fallback when running on GPU\n"
          ],
          "name": "stdout"
        }
      ]
    },
    {
      "cell_type": "code",
      "metadata": {
        "colab": {
          "base_uri": "https://localhost:8080/"
        },
        "id": "XeSO2Tbp1z7L",
        "outputId": "cbcea5e8-41d3-4546-d47c-7357a342755e"
      },
      "source": [
        "model_3.summary()"
      ],
      "execution_count": null,
      "outputs": [
        {
          "output_type": "stream",
          "text": [
            "Model: \"model\"\n",
            "__________________________________________________________________________________________________\n",
            "Layer (type)                    Output Shape         Param #     Connected to                     \n",
            "==================================================================================================\n",
            "input_2 (InputLayer)            [(None, 22)]         0                                            \n",
            "__________________________________________________________________________________________________\n",
            "embedding (Embedding)           (None, 22, 64)       308352      input_2[0][0]                    \n",
            "__________________________________________________________________________________________________\n",
            "input_1 (InputLayer)            [(None, 146, 256, 4) 0                                            \n",
            "__________________________________________________________________________________________________\n",
            "bidirectional (Bidirectional)   (None, 200)          132000      embedding[0][0]                  \n",
            "__________________________________________________________________________________________________\n",
            "sequential_1 (Sequential)       (None, 64)           1627200     input_1[0][0]                    \n",
            "__________________________________________________________________________________________________\n",
            "concatenate (Concatenate)       (None, 264)          0           bidirectional[0][0]              \n",
            "                                                                 sequential_1[0][0]               \n",
            "__________________________________________________________________________________________________\n",
            "dense_1 (Dense)                 (None, 128)          33920       concatenate[0][0]                \n",
            "__________________________________________________________________________________________________\n",
            "dropout_1 (Dropout)             (None, 128)          0           dense_1[0][0]                    \n",
            "__________________________________________________________________________________________________\n",
            "dense_2 (Dense)                 (None, 58)           7482        dropout_1[0][0]                  \n",
            "==================================================================================================\n",
            "Total params: 2,108,954\n",
            "Trainable params: 2,108,954\n",
            "Non-trainable params: 0\n",
            "__________________________________________________________________________________________________\n"
          ],
          "name": "stdout"
        }
      ]
    },
    {
      "cell_type": "markdown",
      "metadata": {
        "id": "fS-kl0sc38dW"
      },
      "source": [
        "## Compiling"
      ]
    },
    {
      "cell_type": "code",
      "metadata": {
        "id": "JdPF9_kc2SHZ"
      },
      "source": [
        "# Learning rate\n",
        "\n",
        "lr = 5e-4\n",
        "\n",
        "\n",
        "# Optimization choices\n",
        "\n",
        "loss = tf.keras.losses.SparseCategoricalCrossentropy()\n",
        "\n",
        "optimizer = tf.keras.optimizers.Adam(learning_rate=lr)\n",
        "\n",
        "metrics = tf.keras.metrics.SparseCategoricalAccuracy(name='s_c_acc', dtype=None)\n",
        "\n",
        "model_3.compile(optimizer=optimizer, loss=loss, metrics=metrics)"
      ],
      "execution_count": null,
      "outputs": []
    },
    {
      "cell_type": "markdown",
      "metadata": {
        "id": "5cgc-26w3MQ5"
      },
      "source": [
        "## Tensorboard + Callbacks"
      ]
    },
    {
      "cell_type": "code",
      "metadata": {
        "id": "Mm9wzMTl3RDW"
      },
      "source": [
        "%load_ext tensorboard\n",
        "%tensorboard --logdir \"/content/drive/My Drive/VQA/experiments\""
      ],
      "execution_count": null,
      "outputs": []
    },
    {
      "cell_type": "code",
      "metadata": {
        "id": "HJO3TTSQ3TR2"
      },
      "source": [
        "exps_dir = os.path.join('/content/drive/My Drive/VQA', 'experiments')\n",
        "if not os.path.exists(exps_dir):\n",
        "    os.makedirs(exps_dir)\n",
        "\n",
        "now = datetime.now().strftime('%b%d_%H-%M-%S')\n",
        "\n",
        "model_name = 'CNN_LSTM_Dense'\n",
        "\n",
        "exp_dir = os.path.join(exps_dir, model_name + '_' + str(now))\n",
        "if not os.path.exists(exp_dir):\n",
        "    os.makedirs(exp_dir)\n",
        "    \n",
        "callbacks = []\n",
        "\n",
        "# Model checkpoint\n",
        "ckpt_dir = os.path.join(exp_dir, 'ckpts')\n",
        "if not os.path.exists(ckpt_dir):\n",
        "    os.makedirs(ckpt_dir)\n",
        "\n",
        "ckpt_callback = tf.keras.callbacks.ModelCheckpoint(filepath=os.path.join(ckpt_dir, 'cp_{epoch:02d}.ckpt'), \n",
        "                                                   save_weights_only=True)  # False to save the model directly\n",
        "callbacks.append(ckpt_callback)\n",
        "\n",
        "# Visualize Learning on Tensorboard\n",
        "tb_dir = os.path.join(exp_dir, 'tb_logs')\n",
        "if not os.path.exists(tb_dir):\n",
        "    os.makedirs(tb_dir)\n",
        "    \n",
        "# By default shows losses and metrics for both training and validation\n",
        "tb_callback = tf.keras.callbacks.TensorBoard(log_dir=tb_dir,\n",
        "                                             profile_batch=0,\n",
        "                                             histogram_freq=1)  # if 1 shows weights histograms\n",
        "callbacks.append(tb_callback)\n",
        "\n",
        "# Early Stopping\n",
        "early_stop = True\n",
        "if early_stop:\n",
        "    es_callback = tf.keras.callbacks.EarlyStopping(monitor='val_loss', patience=8, restore_best_weights=True)\n",
        "    callbacks.append(es_callback)"
      ],
      "execution_count": null,
      "outputs": []
    },
    {
      "cell_type": "markdown",
      "metadata": {
        "id": "TCFkuseR4koe"
      },
      "source": [
        "# Training"
      ]
    },
    {
      "cell_type": "code",
      "metadata": {
        "id": "cJ8g6W5P24jx"
      },
      "source": [
        "# First fit. lr = 5e-4. Interrupted because Colab session expired.\n",
        "\n",
        "history = model_3.fit(x = train_dataset,\n",
        "                      epochs = 30,\n",
        "                      validation_data = valid_dataset,\n",
        "                      callbacks = callbacks)"
      ],
      "execution_count": null,
      "outputs": []
    },
    {
      "cell_type": "code",
      "metadata": {
        "id": "3hP8cJSqOocL"
      },
      "source": [
        "model_3.load_weights(\"/content/drive/My Drive/VQA/experiments/VGG_LSTM_Dense_Jan28_23-41-58/ckpts/cp_06.ckpt\")"
      ],
      "execution_count": null,
      "outputs": []
    },
    {
      "cell_type": "code",
      "metadata": {
        "colab": {
          "base_uri": "https://localhost:8080/"
        },
        "id": "mmOYhQQsPNoB",
        "outputId": "0997c28c-44bb-46cf-a92c-feb184051113"
      },
      "source": [
        "# Second fit. lr = 2e-4\n",
        "\n",
        "history2 = model_3.fit(x = train_dataset,\n",
        "                      epochs = 30,\n",
        "                      validation_data = valid_dataset,\n",
        "                      callbacks = callbacks)"
      ],
      "execution_count": null,
      "outputs": [
        {
          "output_type": "stream",
          "text": [
            "Epoch 1/30\n",
            "413/413 [==============================] - 8229s 20s/step - loss: 0.8579 - s_c_acc: 0.6548 - val_loss: 1.0451 - val_s_c_acc: 0.5823\n",
            "Epoch 2/30\n",
            "413/413 [==============================] - 860s 2s/step - loss: 0.7631 - s_c_acc: 0.6920 - val_loss: 1.0778 - val_s_c_acc: 0.5840\n",
            "Epoch 3/30\n",
            "413/413 [==============================] - 857s 2s/step - loss: 0.6487 - s_c_acc: 0.7335 - val_loss: 1.1584 - val_s_c_acc: 0.5785\n",
            "Epoch 4/30\n",
            "413/413 [==============================] - 856s 2s/step - loss: 0.5414 - s_c_acc: 0.7751 - val_loss: 1.1892 - val_s_c_acc: 0.5748\n",
            "Epoch 5/30\n",
            "413/413 [==============================] - 860s 2s/step - loss: 0.4670 - s_c_acc: 0.8088 - val_loss: 1.3259 - val_s_c_acc: 0.5672\n",
            "Epoch 6/30\n",
            "413/413 [==============================] - 857s 2s/step - loss: 0.3965 - s_c_acc: 0.8363 - val_loss: 1.4128 - val_s_c_acc: 0.5589\n",
            "Epoch 7/30\n",
            "413/413 [==============================] - 849s 2s/step - loss: 0.3720 - s_c_acc: 0.8505 - val_loss: 1.5199 - val_s_c_acc: 0.5493\n",
            "Epoch 8/30\n",
            "413/413 [==============================] - 849s 2s/step - loss: 0.3396 - s_c_acc: 0.8630 - val_loss: 1.4942 - val_s_c_acc: 0.5644\n",
            "Epoch 9/30\n",
            "413/413 [==============================] - 846s 2s/step - loss: 0.3102 - s_c_acc: 0.8751 - val_loss: 1.5532 - val_s_c_acc: 0.5530\n"
          ],
          "name": "stdout"
        }
      ]
    },
    {
      "cell_type": "code",
      "metadata": {
        "id": "fEJoYjtlJhSl"
      },
      "source": [
        "# Best val_s_c_acc: 0.5823\n",
        "\n",
        "model_3.load_weights(\"/content/drive/My Drive/VQA/experiments/CNN_LSTM_Dense_Jan29_08-23-03/ckpts/cp_01.ckpt\")"
      ],
      "execution_count": null,
      "outputs": []
    },
    {
      "cell_type": "markdown",
      "metadata": {
        "id": "Zp-otLXKSuh0"
      },
      "source": [
        "# Predictions"
      ]
    },
    {
      "cell_type": "code",
      "metadata": {
        "id": "-7EygZGaStaA"
      },
      "source": [
        "# Model Evaluation. One-at-a-time\n",
        "\n",
        "model = model_3   # Insert here the name of the model you're using\n",
        "\n",
        "# Loading the test data into a new dataframe\n",
        "test_dataFrame = pd.read_json(os.path.join(dataset_dir,\"test_questions.json\")).T\n",
        "\n",
        "# Encoding the questions of the test_dataFrame\n",
        "test_questions = []\n",
        "for i, row in test_dataFrame.iterrows():\n",
        "  question = []\n",
        "  question += row['question'].split(\" \")\n",
        "  question = [quest.replace(\"?\", \"\") for quest in question]\n",
        "  test_questions.append(question)\n",
        "\n",
        "encoded_test_questions = tokenizer.texts_to_sequences(test_questions)\n",
        "\n",
        "# Padding to make every sequence having the same length\n",
        "encoded_test_questions = tf.keras.preprocessing.sequence.pad_sequences(encoded_test_questions, maxlen=max_length)\n",
        "\n",
        "# Replacing the human like questions of the test_dataFrame with the encoded ones\n",
        "for i in range(len(test_dataFrame)):\n",
        "  test_dataFrame.iloc[i]['question'] = encoded_test_questions[i]\n",
        "\n",
        "# Predicting the class of each element of the test_dataFrame and saving the results into a dictionary\n",
        "predictions = {}\n",
        "i = 1\n",
        "for question_id in test_dataFrame.index:\n",
        "  img = Image.open(os.path.join(dataset_dir, \"Images\", (test_dataFrame.loc[question_id, \"image_id\"] + \".png\")))\n",
        "  img = img.resize((img_w,img_h))\n",
        "  \n",
        "  img_array = np.array(img)\n",
        "\n",
        "  img_array = custom_transformation(img_array)\n",
        "\n",
        "  img_array = np.expand_dims(img_array, axis=0)\n",
        "  question_ = np.expand_dims(test_dataFrame.loc[question_id, \"question\"], axis=0)\n",
        "\n",
        "\n",
        "  prediction = model([img_array, question_])\n",
        "\n",
        "  # Taking the argmax of the predictions in order to have the predicted class\n",
        "  predictions[question_id] = np.argmax(prediction[0])\n",
        "  \n",
        "  print(i)\n",
        "  i+=1"
      ],
      "execution_count": null,
      "outputs": []
    },
    {
      "cell_type": "code",
      "metadata": {
        "id": "MxivY5_uS14W"
      },
      "source": [
        "# Function to create the CSV file with the results\n",
        "def create_csv(results, results_dir='./'):\n",
        "\n",
        "    csv_fname = 'results_'\n",
        "    csv_fname += datetime.now().strftime('%b%d_%H-%M-%S') + '.csv'\n",
        "\n",
        "    with open(os.path.join(results_dir, csv_fname), 'w') as f:\n",
        "\n",
        "        f.write('Id,Category\\n')\n",
        "\n",
        "        for key, value in results.items():\n",
        "            f.write(\"%s,%s\\n\"%(key,results[key]))\n",
        "\n",
        "# Create the CSV file from the predictions made and save it on our folder on Drive\n",
        "create_csv(predictions, '/content/drive/My Drive/VQA/Results')"
      ],
      "execution_count": null,
      "outputs": []
    },
    {
      "cell_type": "markdown",
      "metadata": {
        "id": "NRxjh8WcAB5Y"
      },
      "source": [
        "### Performance on the test dataset: 0.58176"
      ]
    }
  ]
}